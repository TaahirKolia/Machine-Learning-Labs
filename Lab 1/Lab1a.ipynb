{
 "cells": [
  {
   "cell_type": "code",
   "execution_count": null,
   "id": "0f826a26",
   "metadata": {},
   "outputs": [],
   "source": [
    "print('Hello World!')\n",
    "\n",
    "import time \n",
    "time.sleep(3)\n",
    "\n",
    "def say_hello(recipient):\n",
    "    return 'Hello, {}!'.format(recipient)\n",
    "say_hello('Tim')\n",
    "\n"
   ]
  },
  {
   "cell_type": "markdown",
   "id": "0b3cfca7",
   "metadata": {},
   "source": [
    "# Level 1 heading\n",
    "## Level 2 heading\n",
    "Plain Text\n",
    "**bold** __bold__, *italic*, _italic_\n",
    "paragraphs must be seperated by an empty line\n",
    "\n",
    "* sometimes we want to include lists\n",
    "* which can be indented\n",
    "\n",
    "1. can also be numbered\n",
    "[hyperlinks](https://www.example.com)\n",
    "Inline code uses single backticks: `foo()`, \n",
    "code blocks use triple backticks: \n",
    "```\n",
    "bar()\n",
    "```\n",
    "\n",
    "Or can be indented 4 times:\n",
    "                foo()\n",
    "add images: ![Alt text](https://www.example.com/image.jpg)"
   ]
  },
  {
   "cell_type": "code",
   "execution_count": 11,
   "id": "0469b467",
   "metadata": {},
   "outputs": [],
   "source": [
    "import numpy as np\n",
    "def square(x):\n",
    "    return x*x\n"
   ]
  },
  {
   "cell_type": "code",
   "execution_count": 13,
   "id": "ccb7274e",
   "metadata": {},
   "outputs": [
    {
     "name": "stdout",
     "output_type": "stream",
     "text": [
      "4 squared is 16\n"
     ]
    }
   ],
   "source": [
    "x = np.random.randint(1,10)\n",
    "y= square(x)\n",
    "print('%d squared is %d'%(x,y))"
   ]
  },
  {
   "cell_type": "code",
   "execution_count": null,
   "id": "7ce02f0b",
   "metadata": {},
   "outputs": [],
   "source": []
  }
 ],
 "metadata": {
  "kernelspec": {
   "display_name": "Python 3 (ipykernel)",
   "language": "python",
   "name": "python3"
  },
  "language_info": {
   "codemirror_mode": {
    "name": "ipython",
    "version": 3
   },
   "file_extension": ".py",
   "mimetype": "text/x-python",
   "name": "python",
   "nbconvert_exporter": "python",
   "pygments_lexer": "ipython3",
   "version": "3.11.5"
  }
 },
 "nbformat": 4,
 "nbformat_minor": 5
}
